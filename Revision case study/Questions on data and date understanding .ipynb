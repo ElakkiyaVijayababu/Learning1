{
 "cells": [
  {
   "cell_type": "markdown",
   "metadata": {},
   "source": [
    "# Instructions\n",
    "#### please answer the below quesstions. The dataset is talking about the outnust of the EBOLA disease and people dying because of it\n",
    "* What is the shape(rows and columns) of the dataset?\n",
    "* How many column names are starting with the letter \"C\", please consider them as a different list?\n",
    "* Please convert the data type of Date as \"datetime\"(HINT : us pd.to_datetime()) on the required column?\n",
    "* How many cases of the EBola were found in United States and ultimately how many people died beacuse of it?(HINT :: Need to consider two columns {one representing the cases and another the death toll})\n",
    "* Which country had maximum death rate because of the Ebola?\n",
    "\n",
    "* Since we are bit familiar with the dataset, now the below questions are majorly focused on the **date**\n",
    "  * I believe the data is captured for two year, please specify the given two year?(HINT :: use data[\"Date\"].dt.year, this will give the year information and apply unique() to get the unique entities) \n",
    "  * In which year did maximum people die, is it 2014 or 2015(HINT :: have separate dataframes for both the years and then apply the describe method on all the columns that start with Death)\n",
    "  * Which month out of the two years saw the maximum deaths. please specify the month along with the death numbers?(HINT ::data[\"Date\"].dt.month will give us the month information. Now take aggregate of the death columns and figure out..... by yourself :) )\n",
    "  * When was the first Ebola case reported in Cases_Nigeria, also after how many days did the first death happened? (HINT :::   Now no more hints, please discuss and come out with the correct answer)\n",
    "  * If I will aggregate the entire dataset, which day had seen the maximum number of deaths? (HINT :: data[\"Date\"].dt.dayofweek will give us the day of week. Now we can map {0:\"Sunday\", 1 : \"Monday\"} and so on...and come up with the new column based on this mapping. Later we can groupby the dataset on this new column and look for the answer)"
   ]
  },
  {
   "cell_type": "code",
   "execution_count": 3,
   "metadata": {},
   "outputs": [],
   "source": [
    "import pandas as pd, numpy as np     ## libraries to use\n",
    " \n",
    "data = pd.read_csv(\"country_timeseries.csv\")   ## dataset is also imported"
   ]
  },
  {
   "cell_type": "code",
   "execution_count": null,
   "metadata": {},
   "outputs": [],
   "source": []
  }
 ],
 "metadata": {
  "kernelspec": {
   "display_name": "Python 3",
   "language": "python",
   "name": "python3"
  },
  "language_info": {
   "codemirror_mode": {
    "name": "ipython",
    "version": 3
   },
   "file_extension": ".py",
   "mimetype": "text/x-python",
   "name": "python",
   "nbconvert_exporter": "python",
   "pygments_lexer": "ipython3",
   "version": "3.7.1"
  }
 },
 "nbformat": 4,
 "nbformat_minor": 2
}
