{
 "cells": [
  {
   "cell_type": "markdown",
   "metadata": {},
   "source": [
    "## Set of questions to answer:\n",
    "* What are the total number of states and the Union Territories?\n",
    "* Please showcase the number of districts each state or UT is having?\n",
    "* Please mention the top 3 states that has the maximum number of District Hospital\n",
    "* Please get the dataset for all the districts that starts with S?\n",
    "* Please spool the the dataset for  the Assam and Haryana whose districts starts with S?\n",
    "* Please give the count of districts that has more than 400 Sub_Centres and more than 100 PHCs and Sub_Divisional_Hospital greater than 4\n",
    "* Please generate the list of states and union territories that has more than 30 districts"
   ]
  },
  {
   "cell_type": "code",
   "execution_count": null,
   "metadata": {},
   "outputs": [],
   "source": []
  }
 ],
 "metadata": {
  "kernelspec": {
   "display_name": "Python 3",
   "language": "python",
   "name": "python3"
  },
  "language_info": {
   "codemirror_mode": {
    "name": "ipython",
    "version": 3
   },
   "file_extension": ".py",
   "mimetype": "text/x-python",
   "name": "python",
   "nbconvert_exporter": "python",
   "pygments_lexer": "ipython3",
   "version": "3.7.1"
  }
 },
 "nbformat": 4,
 "nbformat_minor": 2
}
