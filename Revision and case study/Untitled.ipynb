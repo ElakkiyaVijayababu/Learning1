{
 "cells": [
  {
   "cell_type": "code",
   "execution_count": 1,
   "metadata": {},
   "outputs": [],
   "source": [
    "import pandas as pd\n",
    "import numpy as np\n",
    "import matplotlib as plt"
   ]
  },
  {
   "cell_type": "code",
   "execution_count": 4,
   "metadata": {},
   "outputs": [
    {
     "name": "stdout",
     "output_type": "stream",
     "text": [
      "[1, 2, 3, 4, 5]\n"
     ]
    }
   ],
   "source": [
    "## Given a list of numbers, write a list comprehension that produces exact a copy of the list.\n",
    "Input = [1, 2, 3, 4, 5]\n",
    "print(Input)"
   ]
  },
  {
   "cell_type": "code",
   "execution_count": 98,
   "metadata": {},
   "outputs": [
    {
     "name": "stdout",
     "output_type": "stream",
     "text": [
      "2\n",
      "4\n",
      "6\n",
      "8\n",
      "10\n"
     ]
    }
   ],
   "source": [
    "## Given a list of numbers, write a list comprehension that produces a list of each number doubled.\n",
    "\n",
    "Input = [1, 2, 3, 4, 5]\n",
    "for i in Input:\n",
    "    print(i+i)"
   ]
  },
  {
   "cell_type": "code",
   "execution_count": 108,
   "metadata": {},
   "outputs": [
    {
     "name": "stdout",
     "output_type": "stream",
     "text": [
      "1\n",
      "16\n",
      "81\n",
      "256\n",
      "625\n"
     ]
    }
   ],
   "source": [
    "## Given a list of numbers, write a list comprehension that produces a list of the squares of each number.\n",
    "Input = [1, 4, 9, 16, 25]\n",
    "for i in Input:\n",
    "    print(i**2)"
   ]
  },
  {
   "cell_type": "code",
   "execution_count": 109,
   "metadata": {},
   "outputs": [],
   "source": [
    "Input = [1, 4, 9, 16, 25]\n",
    "squares = [x**2 for x in Input]"
   ]
  },
  {
   "cell_type": "code",
   "execution_count": 110,
   "metadata": {},
   "outputs": [
    {
     "data": {
      "text/plain": [
       "[1, 16, 81, 256, 625]"
      ]
     },
     "execution_count": 110,
     "metadata": {},
     "output_type": "execute_result"
    }
   ],
   "source": [
    "squares"
   ]
  },
  {
   "cell_type": "code",
   "execution_count": 12,
   "metadata": {},
   "outputs": [
    {
     "data": {
      "text/plain": [
       "[2, 4]"
      ]
     },
     "execution_count": 12,
     "metadata": {},
     "output_type": "execute_result"
    }
   ],
   "source": [
    "## Given a list of numbers, write a list comprehension that produces a list of only the even numbers in that list.\n",
    "\n",
    "Input = [1, 2, 3, 4, 5]\n",
    "Input[1::2]"
   ]
  },
  {
   "cell_type": "code",
   "execution_count": 63,
   "metadata": {},
   "outputs": [
    {
     "data": {
      "text/plain": [
       "[0, 2, 4]"
      ]
     },
     "execution_count": 63,
     "metadata": {},
     "output_type": "execute_result"
    }
   ],
   "source": [
    "[x for x in range(5)\n",
    "    if(x%2==0)]"
   ]
  },
  {
   "cell_type": "code",
   "execution_count": 18,
   "metadata": {},
   "outputs": [
    {
     "data": {
      "text/plain": [
       "[1, 3, 5]"
      ]
     },
     "execution_count": 18,
     "metadata": {},
     "output_type": "execute_result"
    }
   ],
   "source": [
    "## Given a list of numbers, write a list comprehension that produces a list of only the odd numbers in that list.\n",
    "\n",
    "Input = [1, 2, 3, 4, 5]\n",
    "Input[0::2]"
   ]
  },
  {
   "cell_type": "code",
   "execution_count": 65,
   "metadata": {},
   "outputs": [
    {
     "data": {
      "text/plain": [
       "[1, 3, 5]"
      ]
     },
     "execution_count": 65,
     "metadata": {},
     "output_type": "execute_result"
    }
   ],
   "source": [
    "[x for x in range(6) if x%2 !=0]"
   ]
  },
  {
   "cell_type": "code",
   "execution_count": 19,
   "metadata": {},
   "outputs": [
    {
     "data": {
      "text/plain": [
       "[0, 1, 2]"
      ]
     },
     "execution_count": 19,
     "metadata": {},
     "output_type": "execute_result"
    }
   ],
   "source": [
    "##  Given a list of numbers, write a list comprehension that produces a list of only the positive numbers in that list.\n",
    "\n",
    "Input = [-2, -1, 0, 1, 2]\n",
    "Input[2::]"
   ]
  },
  {
   "cell_type": "code",
   "execution_count": 68,
   "metadata": {},
   "outputs": [
    {
     "data": {
      "text/plain": [
       "[-2, 0, 2]"
      ]
     },
     "execution_count": 68,
     "metadata": {},
     "output_type": "execute_result"
    }
   ],
   "source": [
    "[x for x in range(-2,3) if x%2 == 0]"
   ]
  },
  {
   "cell_type": "code",
   "execution_count": 26,
   "metadata": {},
   "outputs": [
    {
     "name": "stdout",
     "output_type": "stream",
     "text": [
      "25\n",
      "-20\n"
     ]
    }
   ],
   "source": [
    "## Given a list of numbers, write a list comprehension that produces a list of strings of each number that is divisible by 5.\n",
    "\n",
    "Input = [25, 91, 22, -7, -20]\n",
    "for i in Input:\n",
    "    if(i%5):\n",
    "        continue\n",
    "    print(i)"
   ]
  },
  {
   "cell_type": "code",
   "execution_count": 52,
   "metadata": {},
   "outputs": [],
   "source": [
    "## Given a string representing a word, write a set comprehension that produces a set of all the vowels in that word.\n",
    "\n",
    "Input = ('mathematics')"
   ]
  },
  {
   "cell_type": "code",
   "execution_count": 57,
   "metadata": {},
   "outputs": [
    {
     "name": "stdout",
     "output_type": "stream",
     "text": [
      "['a', 'e', 'a', 'i']\n"
     ]
    }
   ],
   "source": [
    "def vowel(text):\n",
    "    vowels = \"aeiuoAEIOU\"\n",
    "    print([letter for letter in text if letter in vowels])\n",
    "vowel('mathematics');"
   ]
  },
  {
   "cell_type": "code",
   "execution_count": 105,
   "metadata": {},
   "outputs": [
    {
     "name": "stdout",
     "output_type": "stream",
     "text": [
      "Even numbers in the list:  [72, 26, 70, 20, 68, -2]\n",
      "144\n",
      "52\n",
      "140\n",
      "40\n",
      "136\n",
      "-4\n",
      "odd numbers in the list:  [79, 43, -71, 71]\n",
      "-79\n",
      "-43\n",
      "71\n",
      "-71\n"
     ]
    }
   ],
   "source": [
    "##     Given a list of number, return the list with all even numbers doubled, and all odd numbers turned negative.\n",
    "\n",
    "list1 = [72, 26, 79, 70, 20, 68, 43, -71, 71, -2]\n",
    "\n",
    "even_nos = [num for num in list1 if num % 2 == 0] \n",
    "\n",
    "print(\"Even numbers in the list: \", even_nos)\n",
    "for i in even_nos:\n",
    "    print(i+i)\n",
    "    \n",
    "odd_nos = [num for num in list1 if num % 2 != 0] \n",
    "print(\"odd numbers in the list: \", odd_nos)\n",
    "for i in odd_nos:\n",
    "    print(-i)"
   ]
  },
  {
   "cell_type": "code",
   "execution_count": 112,
   "metadata": {},
   "outputs": [
    {
     "name": "stdout",
     "output_type": "stream",
     "text": [
      "['H', 'e', 'l', 'l', 'o', 'W', 'o', 'r', 'l', 'd']\n"
     ]
    }
   ],
   "source": [
    "string = \"Hello 12345 World\"\n",
    "alpha = [x for x in string if x.isalpha()]\n",
    "print(alpha)"
   ]
  },
  {
   "cell_type": "code",
   "execution_count": null,
   "metadata": {},
   "outputs": [],
   "source": []
  }
 ],
 "metadata": {
  "kernelspec": {
   "display_name": "Python 3",
   "language": "python",
   "name": "python3"
  },
  "language_info": {
   "codemirror_mode": {
    "name": "ipython",
    "version": 3
   },
   "file_extension": ".py",
   "mimetype": "text/x-python",
   "name": "python",
   "nbconvert_exporter": "python",
   "pygments_lexer": "ipython3",
   "version": "3.7.1"
  }
 },
 "nbformat": 4,
 "nbformat_minor": 2
}
