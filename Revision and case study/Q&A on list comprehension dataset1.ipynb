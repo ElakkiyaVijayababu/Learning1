{
 "cells": [
  {
   "cell_type": "markdown",
   "metadata": {},
   "source": [
    "# Instructions::  \n",
    "#### Below are 10 questions on the list comprehensions. \n",
    "* Plese go after them on the basis of logics we have covered yesterday..\n",
    "  * Input stands for the list you have to consider on which the list conprehension will be applied\n",
    "  * Output is how the result of your list comprehension should look like  "
   ]
  },
  {
   "cell_type": "code",
   "execution_count": 1,
   "metadata": {},
   "outputs": [],
   "source": [
    "import pandas as pd\n",
    "import numpy as np\n",
    "import matplotlib as plt"
   ]
  },
  {
   "cell_type": "code",
   "execution_count": 7,
   "metadata": {},
   "outputs": [
    {
     "data": {
      "text/plain": [
       "[1, 2, 3, 4, 5]"
      ]
     },
     "execution_count": 7,
     "metadata": {},
     "output_type": "execute_result"
    }
   ],
   "source": [
    "## Given a list of numbers, write a list comprehension that produces exact a copy of the list.\n",
    "#Input -> [1, 2, 3, 4, 5]\n",
    "\n",
    "#output -> [1, 2, 3, 4, 5]\n",
    "Input = [1, 2, 3, 4, 5]\n",
    "Copy=[x for x in Input]\n",
    "Copy"
   ]
  },
  {
   "cell_type": "code",
   "execution_count": 8,
   "metadata": {},
   "outputs": [
    {
     "data": {
      "text/plain": [
       "[2, 4, 6, 8, 10]"
      ]
     },
     "execution_count": 8,
     "metadata": {},
     "output_type": "execute_result"
    }
   ],
   "source": [
    "## Given a list of numbers, write a list comprehension that produces a list of each number doubled.\n",
    "#Input -> [1, 2, 3, 4, 5]\n",
    "#output -> [2, 4, 6, 8, 10]\n",
    "Input = [1, 2, 3, 4, 5]\n",
    "double=[x+x for x in Input]\n",
    "double"
   ]
  },
  {
   "cell_type": "code",
   "execution_count": 6,
   "metadata": {},
   "outputs": [
    {
     "data": {
      "text/plain": [
       "[1, 16, 81, 256, 625]"
      ]
     },
     "execution_count": 6,
     "metadata": {},
     "output_type": "execute_result"
    }
   ],
   "source": [
    "## Given a list of numbers, write a list comprehension that produces a list of the squares of each number.\n",
    " #Input -> [1, 4, 9, 16, 25]\n",
    "Input = [1, 4, 9, 16, 25]\n",
    "squares = [x**2 for x in Input]\n",
    "squares"
   ]
  },
  {
   "cell_type": "code",
   "execution_count": 12,
   "metadata": {},
   "outputs": [
    {
     "data": {
      "text/plain": [
       "[2, 4]"
      ]
     },
     "execution_count": 12,
     "metadata": {},
     "output_type": "execute_result"
    }
   ],
   "source": [
    "## Given a list of numbers, write a list comprehension that produces a list of only the even numbers in that list.\n",
    "\n",
    "Input = [1, 2, 3, 4, 5]\n",
    "Evennumber=[x for x in Input if x%2==0]\n",
    "Evennumber"
   ]
  },
  {
   "cell_type": "code",
   "execution_count": 13,
   "metadata": {},
   "outputs": [
    {
     "data": {
      "text/plain": [
       "[1, 3, 5]"
      ]
     },
     "execution_count": 13,
     "metadata": {},
     "output_type": "execute_result"
    }
   ],
   "source": [
    "## Given a list of numbers, write a list comprehension that produces a list of only the odd numbers in that list.\n",
    "\n",
    "Input = [1, 2, 3, 4, 5]\n",
    "Oddnumber=[x for x in Input if x%2!=0]\n",
    "Oddnumber"
   ]
  },
  {
   "cell_type": "code",
   "execution_count": 15,
   "metadata": {},
   "outputs": [
    {
     "data": {
      "text/plain": [
       "[1, 2]"
      ]
     },
     "execution_count": 15,
     "metadata": {},
     "output_type": "execute_result"
    }
   ],
   "source": [
    "##  Given a list of numbers, write a list comprehension that produces a list of only the positive numbers in that list.\n",
    "\n",
    "Input = [-2, -1, 0, 1, 2]\n",
    "newlist = [x for x in Input if x>0]\n",
    "newlist"
   ]
  },
  {
   "cell_type": "code",
   "execution_count": 16,
   "metadata": {},
   "outputs": [
    {
     "data": {
      "text/plain": [
       "[25, -20]"
      ]
     },
     "execution_count": 16,
     "metadata": {},
     "output_type": "execute_result"
    }
   ],
   "source": [
    "## Given a list of numbers, write a list comprehension that produces a list of strings of each number that is divisible by 5.\n",
    "\n",
    "Input = [25, 91, 22, -7, -20]\n",
    "divisible5=[x for x in Input if x%5==0]\n",
    "divisible5"
   ]
  },
  {
   "cell_type": "code",
   "execution_count": 23,
   "metadata": {},
   "outputs": [
    {
     "data": {
      "text/plain": [
       "[5, 5, 3, 5, 4, 4, 3]"
      ]
     },
     "execution_count": 23,
     "metadata": {},
     "output_type": "execute_result"
    }
   ],
   "source": [
    "## Given a sentence, produce a list of the lengths of each word in the sentence, but only if the word is not 'the'.\n",
    "\n",
    "x = ('the quick brown fox jumps over the lazy dog')\n",
    "output=[len(x) for x in x.split() if x!='the']\n",
    "output"
   ]
  },
  {
   "cell_type": "code",
   "execution_count": 31,
   "metadata": {},
   "outputs": [
    {
     "name": "stdout",
     "output_type": "stream",
     "text": [
      "['a', 'e', 'a', 'i']\n"
     ]
    }
   ],
   "source": [
    "## Given a string representing a word, write a set comprehension that produces a set of all the vowels in that word.\n",
    "\n",
    "def vowel(text):\n",
    "    vowels = \"aeiuoAEIOU\"\n",
    "    print([letter for letter in text if letter in vowels])\n",
    "vowel('mathematics');"
   ]
  },
  {
   "cell_type": "code",
   "execution_count": 45,
   "metadata": {},
   "outputs": [
    {
     "data": {
      "text/plain": [
       "['a', 'e', 'a', 'i']"
      ]
     },
     "execution_count": 45,
     "metadata": {},
     "output_type": "execute_result"
    }
   ],
   "source": [
    "Input = 'mathematics'\n",
    "vowels=['a','e','i','o','u']\n",
    "output =[x for x in Input if x in vowels]\n",
    "output"
   ]
  },
  {
   "cell_type": "code",
   "execution_count": 42,
   "metadata": {},
   "outputs": [
    {
     "data": {
      "text/plain": [
       "[144, 52, 140, 40, 136, -4]"
      ]
     },
     "execution_count": 42,
     "metadata": {},
     "output_type": "execute_result"
    }
   ],
   "source": [
    "##     Given a list of number, return the list with all even numbers doubled, and all odd numbers turned negative.\n",
    "\n",
    "Input = [72, 26, 79, 70, 20, 68, 43, -71, 71, -2]\n",
    "evennumber=[x+x for x in Input if x%2==0]\n",
    "evennumber"
   ]
  },
  {
   "cell_type": "code",
   "execution_count": 43,
   "metadata": {},
   "outputs": [
    {
     "data": {
      "text/plain": [
       "[-79, -43, 71, -71]"
      ]
     },
     "execution_count": 43,
     "metadata": {},
     "output_type": "execute_result"
    }
   ],
   "source": [
    "Input = [72, 26, 79, 70, 20, 68, 43, -71, 71, -2]\n",
    "oddnumber=[-(x) for x in Input if x%2!=0]\n",
    "oddnumber"
   ]
  },
  {
   "cell_type": "code",
   "execution_count": 44,
   "metadata": {},
   "outputs": [
    {
     "name": "stdout",
     "output_type": "stream",
     "text": [
      "Even numbers in the list:  [72, 26, 70, 20, 68, -2]\n",
      "144\n",
      "52\n",
      "140\n",
      "40\n",
      "136\n",
      "-4\n",
      "odd numbers in the list:  [79, 43, -71, 71]\n",
      "-79\n",
      "-43\n",
      "71\n",
      "-71\n"
     ]
    }
   ],
   "source": [
    "##     Given a list of number, return the list with all even numbers doubled, and all odd numbers turned negative.\n",
    "\n",
    "list1 = [72, 26, 79, 70, 20, 68, 43, -71, 71, -2]\n",
    "\n",
    "even_nos = [num for num in list1 if num % 2 == 0] \n",
    "\n",
    "print(\"Even numbers in the list: \", even_nos)\n",
    "for i in even_nos:\n",
    "    print(i+i)\n",
    "    \n",
    "odd_nos = [num for num in list1 if num % 2 != 0] \n",
    "print(\"odd numbers in the list: \", odd_nos)\n",
    "for i in odd_nos:\n",
    "    print(-i)"
   ]
  },
  {
   "cell_type": "code",
   "execution_count": null,
   "metadata": {},
   "outputs": [],
   "source": []
  }
 ],
 "metadata": {
  "kernelspec": {
   "display_name": "Python 3",
   "language": "python",
   "name": "python3"
  },
  "language_info": {
   "codemirror_mode": {
    "name": "ipython",
    "version": 3
   },
   "file_extension": ".py",
   "mimetype": "text/x-python",
   "name": "python",
   "nbconvert_exporter": "python",
   "pygments_lexer": "ipython3",
   "version": "3.7.1"
  }
 },
 "nbformat": 4,
 "nbformat_minor": 2
}
